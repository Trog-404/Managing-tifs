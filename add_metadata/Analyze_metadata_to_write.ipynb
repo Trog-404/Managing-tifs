{
 "cells": [
  {
   "cell_type": "code",
   "execution_count": 1,
   "id": "2a56ad2d-5be9-4a75-888c-0a65374566f3",
   "metadata": {},
   "outputs": [],
   "source": [
    "import json\n",
    "\n",
    "import tifffile as tf\n",
    "from cffi import FFI"
   ]
  },
  {
   "cell_type": "code",
   "execution_count": 2,
   "id": "b1d680df-9ae8-476f-b633-3f54351db1b6",
   "metadata": {},
   "outputs": [
    {
     "name": "stdout",
     "output_type": "stream",
     "text": [
      "[METADATA]\n",
      "Acc. Voltage=0.0kV\n",
      "Active Mode=10kv_HC_CO_Work2\n",
      "Average Count=1\n",
      "Average Type=Moving Frame Averaging\n",
      "Date=2025/08/31\n",
      "Detector=SE2\n",
      "FoV=400.0µm\n",
      "Focus/WD=7.098mm\n",
      "Pixel Dwelltime=2µs\n",
      "Point Average=1\n",
      "Position U=1.0370mm\n",
      "Position V=2.4965mm\n",
      "Probe Current=20.5pA\n",
      "Project=%UserRoot%Project\\New.DSK\n",
      "Stage R=0.0000mm\n",
      "Stage T=0.0000mm\n",
      "Stage X=18.0453mm\n",
      "Stage Y=-39.3926mm\n",
      "Stage Z=25.6202mm\n",
      "Step Size=0.7812µm\n",
      "Time=21:25:07\n",
      "User=Giubertoni\n",
      "Write field=200µm\n",
      "[SLOWSCAN]\n",
      "Bitmap=2025_08_31 U2280_Electrodes_GePP_HR_3um_001.bmp\n",
      "DataZone=Damiano_SEM\n",
      "LocalOriginUV=1.036989,2.496478\n",
      "LowerLeftUV=0.836989,2.296478\n",
      "RotationUV=0\n",
      "ScanSignal=A\n",
      "ScanSource=SEM\n",
      "StageUV=1.036989,2.496478\n",
      "UpperRightUV=1.236989,2.696478\n",
      "\n"
     ]
    }
   ],
   "source": [
    "file_path = './origin/2025_08_31_U2280_Electrodes_GePP_HR_3um_001.ssc'\n",
    "\n",
    "with open(file_path, encoding='latin-1') as f:\n",
    "    letto = f.read()\n",
    "    print(letto)"
   ]
  },
  {
   "cell_type": "code",
   "execution_count": 3,
   "id": "95bda45b-ec15-4baf-8545-0d3b9121886f",
   "metadata": {},
   "outputs": [
    {
     "name": "stdout",
     "output_type": "stream",
     "text": [
      "{\"Acc. Voltage\": 0.0, \"Active Mode\": \"10kv_HC_CO_Work2\", \"Average Count\": \"1\", \"Average Type\": \"Moving Frame Averaging\", \"Date\": \"2025/08/31\", \"Detector\": \"SE2\", \"FoV\": 0.0004, \"Focus/WD\": 0.007098, \"Pixel Dwelltime\": 2e-06, \"Point Average\": \"1\", \"Position U\": 0.001037, \"Position V\": 0.0024965, \"Probe Current\": 2.05e-11, \"Project\": \"%UserRoot%Project\\\\New.DSK\", \"Stage R\": 0.0, \"Stage T\": 0.0, \"Stage X\": 0.0180453, \"Stage Y\": -0.0393926, \"Stage Z\": 0.0256202, \"Step Size\": 7.812e-07, \"Time\": \"21:25:07\", \"User\": \"Giubertoni\", \"Write field\": 0.0002, \"Bitmap\": \"2025_08_31 U2280_Electrodes_GePP_HR_3um_001.bmp\", \"DataZone\": \"Damiano_SEM\", \"LocalOriginUV\": \"1.036989,2.496478\", \"LowerLeftUV\": \"0.836989,2.296478\", \"RotationUV\": \"0\", \"ScanSignal\": \"A\", \"ScanSource\": \"SEM\", \"StageUV\": \"1.036989,2.496478\", \"UpperRightUV\": \"1.236989,2.696478\"}\n"
     ]
    }
   ],
   "source": [
    "from read_external_file import read_external_file\n",
    "\n",
    "json_str = json.dumps(read_external_file(file_path))\n",
    "print(json_str)"
   ]
  },
  {
   "cell_type": "raw",
   "id": "909e497b-da93-458e-beb7-97937ece4e88",
   "metadata": {},
   "source": [
    "Ci siamo così preparati la nostra struttura come stringa json così da mandarlo alla routine in C per scriverne il nuovo custom tag con i dati appena estratti"
   ]
  },
  {
   "cell_type": "raw",
   "id": "142ae7d7-11df-45d7-b4c7-7a88b5fc7e75",
   "metadata": {},
   "source": [
    "La funzione è presa dal modulo metadata_add.c che si trova nella source del codice. Questa routine si prende il codice del nuovo tag da scrivere (ovviamente ti consiglio di usare codici uguali per strumenti uguali e codici diversi per strumenti diversi)."
   ]
  },
  {
   "cell_type": "code",
   "execution_count": 13,
   "id": "b8905f01-13ac-4e73-9b01-e2416302f2b6",
   "metadata": {},
   "outputs": [
    {
     "name": "stdout",
     "output_type": "stream",
     "text": [
      "Tag scritto con successo nella pagina 0\n"
     ]
    },
    {
     "name": "stderr",
     "output_type": "stream",
     "text": [
      "TIFFFetchNormalTag: Warning, ASCII value for tag \"Make\" contains null byte in value; value incorrectly truncated during reading due to implementation limitations.\n"
     ]
    }
   ],
   "source": [
    "ffi = FFI()\n",
    "# Definizione della funzione presente nella libreria C\n",
    "ffi.cdef(\"\"\"\n",
    "    int write_custom_tag(const char* filename,\n",
    "                          unsigned short tag_code,\n",
    "                          const char* tag_name,\n",
    "                          const char* tag_value);\n",
    "\"\"\")\n",
    "\n",
    "lib = ffi.dlopen('./libmetadata_add.so')  # carica la libreria compilata\n",
    "\n",
    "file_tiff = './origin/2025_08_31_U2280_Electrodes_GePP_HR_3um.tif'\n",
    "registry = json.load(open('tag_registry.json'))\n",
    "instrument = 'RAITH_VELION'\n",
    "if instrument not in registry:\n",
    "    raise ('The instrument choosen does not appear in the registry.')\n",
    "tag_code = registry[instrument]\n",
    "# Converti le stringhe in bytes per CFFI\n",
    "file_tiff_b = file_tiff.encode('utf-8')\n",
    "tag_name_b = instrument.encode('utf-8')\n",
    "tag_value_b = json_str.encode('utf-8')\n",
    "\n",
    "with tf.TiffFile(file_tiff) as tiff:\n",
    "    for count, page in enumerate(tiff.pages):\n",
    "        if tag_code not in page.tags:\n",
    "            res = lib.write_custom_tag(file_tiff_b, tag_code, tag_name_b, tag_value_b)\n",
    "            if res == 0:\n",
    "                print(f'Tag scritto con successo nella pagina {count}')\n",
    "            else:\n",
    "                print(f'Errore scrittura tag, codice: {res}')\n",
    "        else:\n",
    "            print(f'Tag {tag_code} già presente nella pagina {count}')"
   ]
  },
  {
   "cell_type": "code",
   "execution_count": 17,
   "id": "1daef775-998d-4105-9cdf-3e817321faeb",
   "metadata": {},
   "outputs": [
    {
     "name": "stdout",
     "output_type": "stream",
     "text": [
      "NewSubfileType con codice 254 e valore 0 trovato\n",
      "ImageWidth con codice 256 e valore 512 trovato\n",
      "ImageLength con codice 257 e valore 512 trovato\n",
      "BitsPerSample con codice 258 e valore 8 trovato\n",
      "Compression con codice 259 e valore 1 trovato\n",
      "PhotometricInterpretation con codice 262 e valore 1 trovato\n",
      "Make con codice 271 e valore Raith GmbH, D-44227 Dortmund trovato\n",
      "StripOffsets con codice 273 e valore (266, 8458, 16650, 24842, 33034, 41226, 49418, 57610, 65802, 73994, 82186, 90378, 98570, 106762, 114954, 123146, 131338, 139530, 147722, 155914, 164106, 172298, 180490, 188682, 196874, 205066, 213258, 221450, 229642, 237834, 246026, 254218) trovato\n",
      "Orientation con codice 274 e valore 1 trovato\n",
      "SamplesPerPixel con codice 277 e valore 1 trovato\n",
      "RowsPerStrip con codice 278 e valore 16 trovato\n",
      "StripByteCounts con codice 279 e valore (8192, 8192, 8192, 8192, 8192, 8192, 8192, 8192, 8192, 8192, 8192, 8192, 8192, 8192, 8192, 8192, 8192, 8192, 8192, 8192, 8192, 8192, 8192, 8192, 8192, 8192, 8192, 8192, 8192, 8192, 8192, 8192) trovato\n",
      "XResolution con codice 282 e valore (0, 1) trovato\n",
      "YResolution con codice 283 e valore (0, 1) trovato\n",
      "PlanarConfiguration con codice 284 e valore 1 trovato\n",
      "ResolutionUnit con codice 296 e valore 1 trovato\n",
      "Software con codice 305 e valore ESCOSY Plus trovato\n",
      "60000 con codice 60000 e valore {\"Acc. Voltage\": 0.0, \"Active Mode\": \"10kv_HC_CO_Work2\", \"Average Count\": \"1\", \"Average Type\": \"Moving Frame Averaging\", \"Date\": \"2025/08/31\", \"Detector\": \"SE2\", \"FoV\": 0.0004, \"Focus/WD\": 0.007098, \"Pixel Dwelltime\": 2e-06, \"Point Average\": \"1\", \"Position U\": 0.001037, \"Position V\": 0.0024965, \"Probe Current\": 2.05e-11, \"Project\": \"%UserRoot%Project\\\\New.DSK\", \"Stage R\": 0.0, \"Stage T\": 0.0, \"Stage X\": 0.0180453, \"Stage Y\": -0.0393926, \"Stage Z\": 0.0256202, \"Step Size\": 7.812e-07, \"Time\": \"21:25:07\", \"User\": \"Giubertoni\", \"Write field\": 0.0002, \"Bitmap\": \"2025_08_31 U2280_Electrodes_GePP_HR_3um_001.bmp\", \"DataZone\": \"Damiano_SEM\", \"LocalOriginUV\": \"1.036989,2.496478\", \"LowerLeftUV\": \"0.836989,2.296478\", \"RotationUV\": \"0\", \"ScanSignal\": \"A\", \"ScanSource\": \"SEM\", \"StageUV\": \"1.036989,2.496478\", \"UpperRightUV\": \"1.236989,2.696478\"} trovato\n"
     ]
    }
   ],
   "source": [
    "with tf.TiffFile('./outputs/2025_08_31_U2280_Electrodes_GePP_HR_3um.tif') as tiff:\n",
    "    for page in tiff.pages:\n",
    "        for tag in page.tags:\n",
    "            print(f'{tag.name} con codice {tag.code} e valore {tag.value} trovato')"
   ]
  },
  {
   "cell_type": "code",
   "execution_count": null,
   "id": "dea7ae2b-d1c1-45d5-b4b7-8d3d2c46ba17",
   "metadata": {},
   "outputs": [],
   "source": []
  }
 ],
 "metadata": {
  "kernelspec": {
   "display_name": "Python 3 (ipykernel)",
   "language": "python",
   "name": "python3"
  },
  "language_info": {
   "codemirror_mode": {
    "name": "ipython",
    "version": 3
   },
   "file_extension": ".py",
   "mimetype": "text/x-python",
   "name": "python",
   "nbconvert_exporter": "python",
   "pygments_lexer": "ipython3",
   "version": "3.10.12"
  }
 },
 "nbformat": 4,
 "nbformat_minor": 5
}
